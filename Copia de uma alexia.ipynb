{
 "cells": [
  {
   "cell_type": "code",
   "execution_count": 1,
   "id": "43ec86a3",
   "metadata": {},
   "outputs": [],
   "source": [
    "import speech_recognition as sr\n",
    "import pyttsx3\n",
    "import datetime\n",
    "import wikipedia\n",
    "import pywhatkit\n",
    "import playsound \n",
    "from gtts import gTTS, tts\n",
    "import random\n",
    "import webbrowser\n",
    "import pyttsx3\n",
    "import os\n"
   ]
  },
  {
   "cell_type": "code",
   "execution_count": null,
   "id": "b8a55477",
   "metadata": {},
   "outputs": [],
   "source": []
  },
  {
   "cell_type": "code",
   "execution_count": 2,
   "id": "d17ac0b9",
   "metadata": {},
   "outputs": [],
   "source": [
    "audio = sr.Recognizer()\n",
    "maquina = pyttsx3.init()\n"
   ]
  },
  {
   "cell_type": "code",
   "execution_count": 5,
   "id": "9361d50f",
   "metadata": {},
   "outputs": [
    {
     "name": "stdout",
     "output_type": "stream",
     "text": [
      "Ouvindo..\n",
      "O ananás (português europeu) ou abacaxi (português brasileiro)  (Ananas comosus) é uma infrutescência tropical produzida pela planta de mesmo nome, caracterizada como uma planta monocotiledônea da família das bromeliáceas da subfamília Bromelioideae. É um símbolo das regiões tropicais e subtropicais.\n"
     ]
    }
   ],
   "source": [
    "audio = sr.Recognizer()\n",
    "maquina = pyttsx3.init()\n",
    "\n",
    "def executa_comando():\n",
    "    try:\n",
    "        with sr.Microphone() as source:\n",
    "            print('Ouvindo..')\n",
    "            voz = audio.listen(source)\n",
    "            comando = audio.recognize_google(voz, language='pt-BR')\n",
    "            comando = comando.lower()\n",
    "            if 'tina' in comando:\n",
    "                comando = comando.replace('luna', '')\n",
    "                maquina.say(comando)\n",
    "                maquina.runAndWait()\n",
    "\n",
    "    except:\n",
    "        print('Microfone não está ok')\n",
    "\n",
    "    return comando\n",
    "\n",
    "def comando_voz_usuario():\n",
    "    comando = executa_comando()\n",
    "    if 'horas' in comando:\n",
    "        hora = datetime.datetime.now().strftime('%H:%M')\n",
    "        maquina.say('Agora são' + hora)\n",
    "        maquina.runAndWait()\n",
    "    elif 'procure por' in comando:\n",
    "        procurar = comando.replace('procure por', '')\n",
    "        wikipedia.set_lang('pt')\n",
    "        resultado = wikipedia.summary(procurar,2)\n",
    "        print(resultado)\n",
    "        maquina.say(resultado)\n",
    "        maquina.runAndWait()\n",
    "    elif 'toque' in comando:\n",
    "        musica = comando.replace('toque','')\n",
    "        resultado = pywhatkit.playonyt(musica)\n",
    "        maquina.say('Tocando música')\n",
    "        maquina.runAndWait()\n",
    "\n",
    "\n",
    "comando_voz_usuario()"
   ]
  },
  {
   "cell_type": "code",
   "execution_count": null,
   "id": "e39fadff",
   "metadata": {},
   "outputs": [],
   "source": []
  },
  {
   "cell_type": "code",
   "execution_count": null,
   "id": "2dec9cfd",
   "metadata": {},
   "outputs": [],
   "source": [
    "\n"
   ]
  },
  {
   "cell_type": "code",
   "execution_count": null,
   "id": "90407c50",
   "metadata": {},
   "outputs": [],
   "source": []
  },
  {
   "cell_type": "code",
   "execution_count": null,
   "id": "350eb315",
   "metadata": {},
   "outputs": [],
   "source": []
  }
 ],
 "metadata": {
  "kernelspec": {
   "display_name": "Python 3 (ipykernel)",
   "language": "python",
   "name": "python3"
  },
  "language_info": {
   "codemirror_mode": {
    "name": "ipython",
    "version": 3
   },
   "file_extension": ".py",
   "mimetype": "text/x-python",
   "name": "python",
   "nbconvert_exporter": "python",
   "pygments_lexer": "ipython3",
   "version": "3.9.7"
  }
 },
 "nbformat": 4,
 "nbformat_minor": 5
}
